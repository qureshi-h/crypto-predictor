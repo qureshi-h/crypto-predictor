{
 "cells": [
  {
   "cell_type": "code",
   "execution_count": 66,
   "metadata": {},
   "outputs": [
    {
     "name": "stdout",
     "output_type": "stream",
     "text": [
      "Epoch 1/50\n"
     ]
    },
    {
     "name": "stderr",
     "output_type": "stream",
     "text": [
      "2022-12-13 15:09:20.293358: I tensorflow/core/grappler/optimizers/custom_graph_optimizer_registry.cc:113] Plugin optimizer for device_type GPU is enabled.\n",
      "2022-12-13 15:09:20.579858: I tensorflow/core/grappler/optimizers/custom_graph_optimizer_registry.cc:113] Plugin optimizer for device_type GPU is enabled.\n",
      "2022-12-13 15:09:20.876021: I tensorflow/core/grappler/optimizers/custom_graph_optimizer_registry.cc:113] Plugin optimizer for device_type GPU is enabled.\n",
      "2022-12-13 15:09:21.172872: I tensorflow/core/grappler/optimizers/custom_graph_optimizer_registry.cc:113] Plugin optimizer for device_type GPU is enabled.\n",
      "2022-12-13 15:09:21.496052: I tensorflow/core/grappler/optimizers/custom_graph_optimizer_registry.cc:113] Plugin optimizer for device_type GPU is enabled.\n"
     ]
    },
    {
     "name": "stdout",
     "output_type": "stream",
     "text": [
      "41/41 [==============================] - ETA: 0s - loss: 0.6945 - accuracy: 0.5470"
     ]
    },
    {
     "name": "stderr",
     "output_type": "stream",
     "text": [
      "2022-12-13 15:09:24.693594: I tensorflow/core/grappler/optimizers/custom_graph_optimizer_registry.cc:113] Plugin optimizer for device_type GPU is enabled.\n",
      "2022-12-13 15:09:24.805102: I tensorflow/core/grappler/optimizers/custom_graph_optimizer_registry.cc:113] Plugin optimizer for device_type GPU is enabled.\n",
      "2022-12-13 15:09:24.930385: I tensorflow/core/grappler/optimizers/custom_graph_optimizer_registry.cc:113] Plugin optimizer for device_type GPU is enabled.\n"
     ]
    },
    {
     "name": "stdout",
     "output_type": "stream",
     "text": [
      "41/41 [==============================] - 6s 94ms/step - loss: 0.6945 - accuracy: 0.5470 - val_loss: 0.7182 - val_accuracy: 0.4176\n",
      "Epoch 2/50\n",
      "41/41 [==============================] - 2s 58ms/step - loss: 0.6827 - accuracy: 0.5702 - val_loss: 0.7226 - val_accuracy: 0.4176\n",
      "Epoch 3/50\n",
      "41/41 [==============================] - 2s 43ms/step - loss: 0.6809 - accuracy: 0.5910 - val_loss: 0.7313 - val_accuracy: 0.4176\n",
      "Epoch 4/50\n",
      "41/41 [==============================] - 2s 42ms/step - loss: 0.6773 - accuracy: 0.5763 - val_loss: 0.7345 - val_accuracy: 0.4176\n",
      "Epoch 5/50\n",
      "41/41 [==============================] - 2s 42ms/step - loss: 0.6766 - accuracy: 0.5775 - val_loss: 0.7291 - val_accuracy: 0.4176\n",
      "Epoch 6/50\n",
      "41/41 [==============================] - 2s 44ms/step - loss: 0.6744 - accuracy: 0.5897 - val_loss: 0.7390 - val_accuracy: 0.4176\n",
      "Epoch 7/50\n",
      "41/41 [==============================] - 2s 42ms/step - loss: 0.6678 - accuracy: 0.6044 - val_loss: 0.7130 - val_accuracy: 0.4176\n",
      "Epoch 8/50\n",
      "41/41 [==============================] - 2s 42ms/step - loss: 0.6612 - accuracy: 0.6166 - val_loss: 0.7410 - val_accuracy: 0.4176\n",
      "Epoch 9/50\n",
      "41/41 [==============================] - 2s 42ms/step - loss: 0.6567 - accuracy: 0.6044 - val_loss: 0.7485 - val_accuracy: 0.4176\n",
      "Epoch 10/50\n",
      "41/41 [==============================] - 2s 41ms/step - loss: 0.6786 - accuracy: 0.5800 - val_loss: 0.7307 - val_accuracy: 0.4176\n",
      "Epoch 11/50\n",
      "41/41 [==============================] - 2s 41ms/step - loss: 0.6563 - accuracy: 0.6215 - val_loss: 0.7500 - val_accuracy: 0.4176\n",
      "Epoch 12/50\n",
      "41/41 [==============================] - 2s 42ms/step - loss: 0.6367 - accuracy: 0.6325 - val_loss: 0.6699 - val_accuracy: 0.4176\n",
      "Epoch 13/50\n",
      "41/41 [==============================] - 2s 41ms/step - loss: 0.6109 - accuracy: 0.6386 - val_loss: 0.7282 - val_accuracy: 0.4176\n",
      "Epoch 14/50\n",
      "41/41 [==============================] - 2s 43ms/step - loss: 0.5720 - accuracy: 0.6960 - val_loss: 0.6639 - val_accuracy: 0.4176\n",
      "Epoch 15/50\n",
      "41/41 [==============================] - 2s 44ms/step - loss: 0.5212 - accuracy: 0.7070 - val_loss: 0.6931 - val_accuracy: 0.4176\n",
      "Epoch 16/50\n",
      "41/41 [==============================] - 2s 41ms/step - loss: 0.5417 - accuracy: 0.6972 - val_loss: 0.6585 - val_accuracy: 0.7912\n",
      "Epoch 17/50\n",
      "41/41 [==============================] - 2s 44ms/step - loss: 0.5455 - accuracy: 0.6813 - val_loss: 0.6304 - val_accuracy: 0.8462\n",
      "Epoch 18/50\n",
      "41/41 [==============================] - 2s 42ms/step - loss: 0.5342 - accuracy: 0.6899 - val_loss: 0.6643 - val_accuracy: 0.4176\n",
      "Epoch 19/50\n",
      "41/41 [==============================] - 2s 41ms/step - loss: 0.4899 - accuracy: 0.7350 - val_loss: 0.6364 - val_accuracy: 0.4176\n",
      "Epoch 20/50\n",
      "41/41 [==============================] - 2s 41ms/step - loss: 0.5174 - accuracy: 0.7363 - val_loss: 0.5708 - val_accuracy: 0.8681\n",
      "Epoch 21/50\n",
      "41/41 [==============================] - 2s 41ms/step - loss: 0.4944 - accuracy: 0.7448 - val_loss: 0.6401 - val_accuracy: 0.5714\n",
      "Epoch 22/50\n",
      "41/41 [==============================] - 2s 43ms/step - loss: 0.4606 - accuracy: 0.7717 - val_loss: 0.5790 - val_accuracy: 0.6813\n",
      "Epoch 23/50\n",
      "41/41 [==============================] - 2s 43ms/step - loss: 0.4191 - accuracy: 0.7924 - val_loss: 0.4987 - val_accuracy: 0.8022\n",
      "Epoch 24/50\n",
      "41/41 [==============================] - 2s 41ms/step - loss: 0.4253 - accuracy: 0.8010 - val_loss: 0.3863 - val_accuracy: 0.9341\n",
      "Epoch 25/50\n",
      "41/41 [==============================] - 2s 41ms/step - loss: 0.4492 - accuracy: 0.7778 - val_loss: 0.5374 - val_accuracy: 0.6813\n",
      "Epoch 26/50\n",
      "41/41 [==============================] - 2s 40ms/step - loss: 0.4090 - accuracy: 0.8046 - val_loss: 0.4613 - val_accuracy: 0.7692\n",
      "Epoch 27/50\n",
      "41/41 [==============================] - 2s 40ms/step - loss: 0.3766 - accuracy: 0.8278 - val_loss: 0.3774 - val_accuracy: 0.9231\n",
      "Epoch 28/50\n",
      "41/41 [==============================] - 2s 40ms/step - loss: 0.4007 - accuracy: 0.8034 - val_loss: 0.3626 - val_accuracy: 0.9231\n",
      "Epoch 29/50\n",
      "41/41 [==============================] - 2s 41ms/step - loss: 0.3820 - accuracy: 0.8205 - val_loss: 0.3650 - val_accuracy: 0.8901\n",
      "Epoch 30/50\n",
      "41/41 [==============================] - 2s 41ms/step - loss: 0.3565 - accuracy: 0.8388 - val_loss: 0.6526 - val_accuracy: 0.5824\n",
      "Epoch 31/50\n",
      "41/41 [==============================] - 2s 40ms/step - loss: 0.3438 - accuracy: 0.8474 - val_loss: 0.4291 - val_accuracy: 0.7692\n",
      "Epoch 32/50\n",
      "41/41 [==============================] - 2s 41ms/step - loss: 0.3328 - accuracy: 0.8449 - val_loss: 0.3755 - val_accuracy: 0.9011\n",
      "Epoch 33/50\n",
      "41/41 [==============================] - 2s 40ms/step - loss: 0.3875 - accuracy: 0.8034 - val_loss: 0.3616 - val_accuracy: 0.9121\n",
      "Epoch 34/50\n",
      "41/41 [==============================] - 2s 41ms/step - loss: 0.3547 - accuracy: 0.8339 - val_loss: 0.3928 - val_accuracy: 0.8901\n",
      "Epoch 35/50\n",
      "41/41 [==============================] - 2s 41ms/step - loss: 0.3380 - accuracy: 0.8559 - val_loss: 0.2664 - val_accuracy: 0.9451\n",
      "Epoch 36/50\n",
      "41/41 [==============================] - 2s 41ms/step - loss: 0.3156 - accuracy: 0.8584 - val_loss: 0.2916 - val_accuracy: 0.8791\n",
      "Epoch 37/50\n",
      "41/41 [==============================] - 2s 40ms/step - loss: 0.3290 - accuracy: 0.8462 - val_loss: 0.3286 - val_accuracy: 0.9011\n",
      "Epoch 38/50\n",
      "41/41 [==============================] - 2s 40ms/step - loss: 0.3263 - accuracy: 0.8559 - val_loss: 0.3551 - val_accuracy: 0.8681\n",
      "Epoch 39/50\n",
      "41/41 [==============================] - 2s 40ms/step - loss: 0.3343 - accuracy: 0.8437 - val_loss: 0.2734 - val_accuracy: 0.9121\n",
      "Epoch 40/50\n",
      "41/41 [==============================] - 2s 40ms/step - loss: 0.3113 - accuracy: 0.8413 - val_loss: 0.2256 - val_accuracy: 0.9121\n",
      "Epoch 41/50\n",
      "41/41 [==============================] - 2s 40ms/step - loss: 0.3137 - accuracy: 0.8669 - val_loss: 0.3607 - val_accuracy: 0.8571\n",
      "Epoch 42/50\n",
      "41/41 [==============================] - 2s 40ms/step - loss: 0.2826 - accuracy: 0.8828 - val_loss: 0.3239 - val_accuracy: 0.8901\n",
      "Epoch 43/50\n",
      "41/41 [==============================] - 2s 43ms/step - loss: 0.3105 - accuracy: 0.8547 - val_loss: 0.4102 - val_accuracy: 0.7692\n",
      "Epoch 44/50\n",
      "41/41 [==============================] - 2s 42ms/step - loss: 0.2972 - accuracy: 0.8706 - val_loss: 0.6236 - val_accuracy: 0.6703\n",
      "Epoch 45/50\n",
      "41/41 [==============================] - 2s 41ms/step - loss: 0.2968 - accuracy: 0.8596 - val_loss: 0.2985 - val_accuracy: 0.8901\n",
      "Epoch 46/50\n",
      "41/41 [==============================] - 2s 39ms/step - loss: 0.2922 - accuracy: 0.8620 - val_loss: 0.3743 - val_accuracy: 0.7692\n",
      "Epoch 47/50\n",
      "41/41 [==============================] - 2s 38ms/step - loss: 0.3214 - accuracy: 0.8498 - val_loss: 0.3662 - val_accuracy: 0.8791\n",
      "Epoch 48/50\n",
      "41/41 [==============================] - 2s 40ms/step - loss: 0.2892 - accuracy: 0.8791 - val_loss: 0.3625 - val_accuracy: 0.8901\n",
      "Epoch 49/50\n",
      "41/41 [==============================] - 2s 40ms/step - loss: 0.2897 - accuracy: 0.8791 - val_loss: 0.4693 - val_accuracy: 0.7033\n",
      "Epoch 50/50\n",
      "41/41 [==============================] - 2s 40ms/step - loss: 0.2868 - accuracy: 0.8596 - val_loss: 0.2257 - val_accuracy: 0.9231\n"
     ]
    }
   ],
   "source": [
    "import tensorflow as tf\n",
    "from sklearn.preprocessing import MinMaxScaler, StandardScaler\n",
    "from keras.models import Sequential, Model\n",
    "from keras.models import Model\n",
    "from keras.layers import Dense, Dropout, LSTM, Input, Activation, concatenate\n",
    "from helper_functions import *\n",
    "\n",
    "tf.random.set_seed(1)\n",
    "\n",
    "import matplotlib.pyplot as plt\n",
    "import pandas as pd\n",
    "import datetime as dt\n",
    "import urllib.request, json\n",
    "\n",
    "data = pd.read_csv(\"../last_30_days.csv\", header=0, index_col=0)\n",
    "data = data.sort_values('date')\n",
    "\n",
    "#### Train-Test split for time-series ####\n",
    "test_ratio = 0.2\n",
    "training_ratio = 1 - test_ratio\n",
    "window_sizes = [50, 50, 200]\n",
    "\n",
    "layer_units, optimizer = 50, 'adam' \n",
    "cur_epochs = 50\n",
    "cur_batch_size = 20\n",
    "\n",
    "cur_LSTM_pars = {'units': layer_units, \n",
    "                    'optimizer': optimizer, \n",
    "                    'batch_size': cur_batch_size, \n",
    "                    'epochs': cur_epochs\n",
    "                    }\n",
    "    \n",
    "# scale \n",
    "scaler = StandardScaler()\n",
    "data['close'] = scaler.fit_transform(data[['close']])\n",
    "\n",
    "X_train, y_train, X_test, y_test = split_data_2(data, training_ratio, window_sizes[0])\n",
    "\n",
    "### Build a LSTM model and log model summary to Neptune ###    \n",
    "def Run_LSTM(X_train, layer_units=50):     \n",
    "\n",
    "    model = Sequential(\n",
    "    [\n",
    "        Input(shape=(X_train.shape[1], 1)),\n",
    "\n",
    "        LSTM(units=layer_units, return_sequences=True),\n",
    "        Dropout(0.75),\n",
    "        LSTM(units=layer_units),\n",
    "        Dropout(0.75),\n",
    "\n",
    "        Dense(2, activation='softmax')\n",
    "    ]\n",
    ")\n",
    "    # Compile the LSTM neural net\n",
    "    model.compile(optimizer='adam',\n",
    "            loss=tf.keras.losses.SparseCategoricalCrossentropy(from_logits=False),\n",
    "            metrics=['accuracy'])\n",
    "    return model\n",
    "\n",
    "model = Run_LSTM(X_train, layer_units=layer_units)\n",
    "\n",
    "history = model.fit(X_train, y_train, epochs=cur_epochs, batch_size=cur_batch_size, \n",
    "                    verbose=1, validation_split=0.1, shuffle=True)\n"
   ]
  },
  {
   "cell_type": "code",
   "execution_count": 67,
   "metadata": {},
   "outputs": [
    {
     "name": "stderr",
     "output_type": "stream",
     "text": [
      "2022-12-13 15:10:49.517866: I tensorflow/core/grappler/optimizers/custom_graph_optimizer_registry.cc:113] Plugin optimizer for device_type GPU is enabled.\n",
      "2022-12-13 15:10:49.650688: I tensorflow/core/grappler/optimizers/custom_graph_optimizer_registry.cc:113] Plugin optimizer for device_type GPU is enabled.\n",
      "2022-12-13 15:10:49.901735: I tensorflow/core/grappler/optimizers/custom_graph_optimizer_registry.cc:113] Plugin optimizer for device_type GPU is enabled.\n"
     ]
    },
    {
     "name": "stdout",
     "output_type": "stream",
     "text": [
      "8/8 [==============================] - 1s 42ms/step\n",
      "[0 0 1 1 1 1 1 1 1 0 0 0 0 0 0 0 0 0 0 0 0 0 0 0 0 0 0 0 0 0 0 0 0 0 0 0 0\n",
      " 0 0 0 0 0 0 0 0 0 0 0 0 0 0 0 0 0 0 0 0 0 0 0 0 0 0 0 0 0 0 0 0 0 0 0 0 0\n",
      " 0 0 0 0 0 0 0 0 0 0 0 0 0 0 0 0 0 0 0 0 0 0 0 0 1 1 1 1 1 1 1 1 1 1 0 0 0\n",
      " 0 0 0 0 0 0 0 0 0 0 0 0 0 0 0 0 0 0 0 0 0 0 0 0 0 0 0 0 0 0 0 0 0 0 0 0 0\n",
      " 0 0 0 0 0 0 0 0 0 0 0 0 0 0 0 0 0 0 0 0 0 0 0 0 0 0 0 0 0 0 0 0 0 0 0 0 0\n",
      " 0 0 0 1 1 1 1 1 1 1 1 1 1 1 1 1 1 1 1 1 0 0 0 0 0 0 0 0 0 0 0 0 0 0 0 0 0\n",
      " 0 0 0 0 0 0 0 0 0 0 0 0 0 0 0 0 0 0]\n"
     ]
    },
    {
     "data": {
      "text/plain": [
       "[0.7762797474861145, 0.5916666984558105]"
      ]
     },
     "execution_count": 67,
     "metadata": {},
     "output_type": "execute_result"
    }
   ],
   "source": [
    "predicted_price_ = model.predict(X_test)\n",
    "print(predicted_price_.argmax(axis=-1))\n",
    "\n",
    "model.evaluate(X_test, y_test, verbose=0)\n"
   ]
  },
  {
   "cell_type": "code",
   "execution_count": 65,
   "metadata": {},
   "outputs": [
    {
     "data": {
      "text/plain": [
       "array([False, False, False, False, False,  True,  True, False, False,\n",
       "       False,  True,  True, False,  True, False,  True,  True,  True,\n",
       "        True,  True,  True,  True,  True,  True,  True, False, False,\n",
       "        True,  True,  True,  True,  True, False, False, False, False,\n",
       "       False, False, False, False, False, False, False, False, False,\n",
       "       False,  True,  True,  True,  True,  True,  True,  True, False,\n",
       "        True, False,  True,  True,  True,  True,  True,  True,  True,\n",
       "        True,  True,  True,  True,  True,  True,  True,  True,  True,\n",
       "        True,  True,  True,  True,  True,  True,  True,  True,  True,\n",
       "       False, False, False, False, False, False, False, False, False,\n",
       "       False, False, False, False, False, False, False, False, False,\n",
       "       False, False, False, False, False, False,  True,  True, False,\n",
       "        True,  True, False, False, False,  True,  True,  True,  True,\n",
       "        True,  True,  True, False, False, False, False, False, False,\n",
       "       False, False, False, False, False, False, False, False, False,\n",
       "       False, False, False, False, False, False,  True,  True, False,\n",
       "       False,  True,  True, False, False,  True,  True,  True,  True,\n",
       "        True,  True,  True,  True,  True,  True,  True,  True,  True,\n",
       "        True,  True,  True,  True,  True,  True,  True,  True,  True,\n",
       "        True,  True,  True,  True,  True, False, False, False, False,\n",
       "       False, False, False, False, False, False, False, False, False,\n",
       "       False, False, False, False, False, False, False,  True, False,\n",
       "       False, False,  True,  True,  True,  True,  True,  True,  True,\n",
       "       False, False, False, False,  True, False,  True,  True,  True,\n",
       "        True,  True,  True,  True, False, False, False, False, False,\n",
       "       False, False,  True,  True,  True, False, False, False, False,\n",
       "       False, False, False, False, False, False])"
      ]
     },
     "execution_count": 65,
     "metadata": {},
     "output_type": "execute_result"
    }
   ],
   "source": [
    "y_test"
   ]
  },
  {
   "cell_type": "code",
   "execution_count": 46,
   "metadata": {},
   "outputs": [
    {
     "name": "stdout",
     "output_type": "stream",
     "text": [
      "dict_keys(['loss', 'accuracy', 'val_loss', 'val_accuracy'])\n"
     ]
    },
    {
     "data": {
      "image/png": "[encoded data removed]",
      "text/plain": [
       "<Figure size 432x288 with 1 Axes>"
      ]
     },
     "metadata": {
      "needs_background": "light"
     },
     "output_type": "display_data"
    }
   ],
   "source": [
    "def plot_loss(data):\n",
    "    print(data.history.keys())\n",
    "    plt.plot(data.history['loss'], label='Train')\n",
    "    plt.plot(data.history['val_loss'], label='Validation')\n",
    "    plt.ylabel('loss')\n",
    "    plt.xlabel('Epoch')\n",
    "    plt.title('Training and validating loss')\n",
    "    plt.legend()\n",
    "    plt.show()\n",
    "    \n",
    "plot_loss(history)"
   ]
  },
  {
   "cell_type": "code",
   "execution_count": 54,
   "metadata": {},
   "outputs": [
    {
     "data": {
      "text/plain": [
       "array([[0.537877  , 0.46212304],\n",
       "       [0.5444345 , 0.4555655 ],\n",
       "       [0.5612476 , 0.4387524 ],\n",
       "       [0.56906885, 0.43093118],\n",
       "       [0.58576214, 0.41423786],\n",
       "       [0.59603935, 0.40396065],\n",
       "       [0.60439456, 0.39560544],\n",
       "       [0.62322813, 0.3767719 ],\n",
       "       [0.64888924, 0.35111073],\n",
       "       [0.68415874, 0.31584123],\n",
       "       [0.6947762 , 0.30522382],\n",
       "       [0.6752606 , 0.32473943],\n",
       "       [0.6517087 , 0.34829134],\n",
       "       [0.6233291 , 0.37667096],\n",
       "       [0.6032683 , 0.3967317 ],\n",
       "       [0.58183736, 0.41816264],\n",
       "       [0.5548417 , 0.44515827],\n",
       "       [0.53642964, 0.46357042],\n",
       "       [0.5209174 , 0.47908258],\n",
       "       [0.50214756, 0.49785247],\n",
       "       [0.47639692, 0.5236031 ],\n",
       "       [0.45688945, 0.5431106 ],\n",
       "       [0.4370661 , 0.5629339 ],\n",
       "       [0.40875146, 0.5912486 ],\n",
       "       [0.37320438, 0.6267956 ],\n",
       "       [0.34853986, 0.6514602 ],\n",
       "       [0.34533945, 0.6546605 ],\n",
       "       [0.3728328 , 0.62716717],\n",
       "       [0.417653  , 0.5823471 ],\n",
       "       [0.48722202, 0.512778  ],\n",
       "       [0.56686366, 0.43313634],\n",
       "       [0.67325914, 0.32674092],\n",
       "       [0.7495444 , 0.25045568],\n",
       "       [0.7945955 , 0.20540455],\n",
       "       [0.8477125 , 0.15228747],\n",
       "       [0.88314897, 0.11685103],\n",
       "       [0.9062067 , 0.09379322],\n",
       "       [0.92599845, 0.07400158],\n",
       "       [0.94148934, 0.05851065],\n",
       "       [0.95176256, 0.04823741],\n",
       "       [0.9597944 , 0.04020559],\n",
       "       [0.96304643, 0.03695354],\n",
       "       [0.9571464 , 0.04285362],\n",
       "       [0.9457235 , 0.05427653],\n",
       "       [0.93068403, 0.06931598],\n",
       "       [0.90985924, 0.09014084],\n",
       "       [0.89899313, 0.10100686],\n",
       "       [0.90887666, 0.09112333],\n",
       "       [0.90403914, 0.0959609 ],\n",
       "       [0.9015847 , 0.09841528],\n",
       "       [0.89991266, 0.10008734],\n",
       "       [0.90232533, 0.09767466],\n",
       "       [0.90208   , 0.09791994],\n",
       "       [0.8983632 , 0.10163685],\n",
       "       [0.8949172 , 0.10508282],\n",
       "       [0.8900314 , 0.10996863],\n",
       "       [0.8832412 , 0.11675875],\n",
       "       [0.87480193, 0.12519808],\n",
       "       [0.8696404 , 0.13035956],\n",
       "       [0.8705859 , 0.1294141 ]], dtype=float32)"
      ]
     },
     "execution_count": 54,
     "metadata": {},
     "output_type": "execute_result"
    }
   ],
   "source": [
    "predicted_price_"
   ]
  },
  {
   "cell_type": "code",
   "execution_count": null,
   "metadata": {},
   "outputs": [],
   "source": []
  }
 ],
 "metadata": {
  "kernelspec": {
   "display_name": "Python 3",
   "language": "python",
   "name": "python3"
  },
  "language_info": {
   "codemirror_mode": {
    "name": "ipython",
    "version": 3
   },
   "file_extension": ".py",
   "mimetype": "text/x-python",
   "name": "python",
   "nbconvert_exporter": "python",
   "pygments_lexer": "ipython3",
   "version": "3.10.8 | packaged by conda-forge | (main, Nov 22 2022, 08:25:29) [Clang 14.0.6 ]"
  },
  "orig_nbformat": 4,
  "vscode": {
   "interpreter": {
    "hash": "4cbffa239f350611ea3c53245acd45c8df1833735e46ae7ae6620dc956c79947"
   }
  }
 },
 "nbformat": 4,
 "nbformat_minor": 2
}
